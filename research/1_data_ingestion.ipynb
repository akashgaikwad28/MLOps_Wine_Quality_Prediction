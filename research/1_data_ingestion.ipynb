{
 "cells": [
  {
   "cell_type": "code",
   "execution_count": 1,
   "metadata": {},
   "outputs": [],
   "source": [
    "import os"
   ]
  },
  {
   "cell_type": "code",
   "execution_count": 2,
   "metadata": {},
   "outputs": [
    {
     "data": {
      "text/plain": [
       "'c:\\\\Users\\\\akash\\\\MLOps_Wine_Quality_Prediction\\\\research'"
      ]
     },
     "execution_count": 2,
     "metadata": {},
     "output_type": "execute_result"
    }
   ],
   "source": [
    "%pwd"
   ]
  },
  {
   "cell_type": "code",
   "execution_count": 3,
   "metadata": {},
   "outputs": [
    {
     "data": {
      "text/plain": [
       "'c:\\\\Users\\\\akash\\\\MLOps_Wine_Quality_Prediction'"
      ]
     },
     "execution_count": 3,
     "metadata": {},
     "output_type": "execute_result"
    }
   ],
   "source": [
    "os.chdir(\"../\")\n",
    "%pwd"
   ]
  },
  {
   "cell_type": "code",
   "execution_count": 4,
   "metadata": {},
   "outputs": [],
   "source": [
    "from dataclasses import dataclass\n",
    "from pathlib import Path\n",
    "import os\n",
    "import urllib.request as request\n",
    "import zipfile\n"
   ]
  },
  {
   "cell_type": "code",
   "execution_count": 5,
   "metadata": {},
   "outputs": [],
   "source": [
    "@dataclass\n",
    "class DataIngestionConfig:\n",
    "    root_dir: Path\n",
    "    source_URL: str\n",
    "    local_data_file: Path\n",
    "    unzip_dir: Path\n"
   ]
  },
  {
   "cell_type": "code",
   "execution_count": 6,
   "metadata": {},
   "outputs": [],
   "source": [
    "from src.Wine_Quality_Prediction.utils.common import read_yaml, create_directories\n",
    "from src.Wine_Quality_Prediction.constants import *\n",
    "from src.Wine_Quality_Prediction import logger\n"
   ]
  },
  {
   "cell_type": "code",
   "execution_count": 7,
   "metadata": {},
   "outputs": [],
   "source": [
    "class ConfigurationManager:\n",
    "    def __init__(self,\n",
    "                 config_filepath=CONFIG_FILE_PATH,\n",
    "                 params_filepath=PARAMS_FILE_PATH,\n",
    "                 schema_filepath=SCHEMA_FILE_PATH):\n",
    "\n",
    "        self.config = read_yaml(config_filepath)\n",
    "        self.params = read_yaml(params_filepath)\n",
    "        self.schema = read_yaml(schema_filepath)\n",
    "\n",
    "        # ensure artifacts root dir\n",
    "        create_directories([Path(self.config.artifacts_root)])\n",
    "\n",
    "    def get_data_ingestion_config(self) -> DataIngestionConfig:\n",
    "        config = self.config.data_ingestion\n",
    "        create_directories([Path(config.root_dir)])\n",
    "\n",
    "        return DataIngestionConfig(\n",
    "            root_dir=Path(config.root_dir),\n",
    "            source_URL=config.source_URL,\n",
    "            local_data_file=Path(config.local_data_file),\n",
    "            unzip_dir=Path(config.unzip_dir)\n",
    "        )"
   ]
  },
  {
   "cell_type": "code",
   "execution_count": 8,
   "metadata": {},
   "outputs": [],
   "source": [
    "import os\n",
    "import urllib.request as request\n",
    "from src.Wine_Quality_Prediction import logger\n",
    "import zipfile"
   ]
  },
  {
   "cell_type": "code",
   "execution_count": 9,
   "metadata": {},
   "outputs": [],
   "source": [
    "## component-Data Ingestion\n",
    "\n",
    "class DataIngestion:\n",
    "    def __init__(self,config:DataIngestionConfig):\n",
    "        self.config=config\n",
    "    \n",
    "    # Downloading the zip file\n",
    "    def download_file(self):\n",
    "        if not os.path.exists(self.config.local_data_file):\n",
    "            filename, headers = request.urlretrieve(\n",
    "                url = self.config.source_URL,\n",
    "                filename = self.config.local_data_file\n",
    "            )\n",
    "            logger.info(f\"{filename} download! with following info: \\n{headers}\")\n",
    "        else:\n",
    "            logger.info(f\"File already exists\")\n",
    "\n",
    "    def extract_zip_file(self):\n",
    "        \"\"\"\n",
    "        zip_file_path: str\n",
    "        Extracts the zip file into the data directory\n",
    "        Function returns None\n",
    "        \"\"\"\n",
    "        unzip_path = self.config.unzip_dir\n",
    "        os.makedirs(unzip_path, exist_ok=True)\n",
    "        with zipfile.ZipFile(self.config.local_data_file, 'r') as zip_ref:\n",
    "            zip_ref.extractall(unzip_path)\n"
   ]
  },
  {
   "cell_type": "code",
   "execution_count": 10,
   "metadata": {},
   "outputs": [
    {
     "name": "stdout",
     "output_type": "stream",
     "text": [
      "[2025-09-10 19:46:21,552: INFO: common: yaml file: C:\\Users\\akash\\MLOps_Wine_Quality_Prediction\\config\\config.yaml loaded successfully]\n",
      "[2025-09-10 19:46:21,561: INFO: common: yaml file: C:\\Users\\akash\\MLOps_Wine_Quality_Prediction\\params.yaml loaded successfully]\n",
      "[2025-09-10 19:46:21,564: INFO: common: yaml file: C:\\Users\\akash\\MLOps_Wine_Quality_Prediction\\schema.yaml loaded successfully]\n",
      "[2025-09-10 19:46:21,566: INFO: common: Created directory at: artifacts]\n",
      "[2025-09-10 19:46:21,567: INFO: common: Created directory at: artifacts\\data_ingestion]\n",
      "[2025-09-10 19:46:23,354: INFO: 251335794: artifacts\\data_ingestion\\data.zip download! with following info: \n",
      "Connection: close\n",
      "Content-Length: 23329\n",
      "Cache-Control: max-age=300\n",
      "Content-Security-Policy: default-src 'none'; style-src 'unsafe-inline'; sandbox\n",
      "Content-Type: application/zip\n",
      "ETag: \"c69888a4ae59bc5a893392785a938ccd4937981c06ba8a9d6a21aa52b4ab5b6e\"\n",
      "Strict-Transport-Security: max-age=31536000\n",
      "X-Content-Type-Options: nosniff\n",
      "X-Frame-Options: deny\n",
      "X-XSS-Protection: 1; mode=block\n",
      "X-GitHub-Request-Id: CFF7:406D3:85DA5:1090D8:68C18838\n",
      "Accept-Ranges: bytes\n",
      "Date: Wed, 10 Sep 2025 14:16:25 GMT\n",
      "Via: 1.1 varnish\n",
      "X-Served-By: cache-bom-vanm7210094-BOM\n",
      "X-Cache: MISS\n",
      "X-Cache-Hits: 0\n",
      "X-Timer: S1757513785.221009,VS0,VE305\n",
      "Vary: Authorization,Accept-Encoding\n",
      "Access-Control-Allow-Origin: *\n",
      "Cross-Origin-Resource-Policy: cross-origin\n",
      "X-Fastly-Request-ID: c33f42ad8c22986dc1ad190f4bc0a5c6edf5e560\n",
      "Expires: Wed, 10 Sep 2025 14:21:25 GMT\n",
      "Source-Age: 0\n",
      "\n",
      "]\n"
     ]
    }
   ],
   "source": [
    "try:\n",
    "    config=ConfigurationManager()\n",
    "    data_ingestion_config=config.get_data_ingestion_config()\n",
    "    data_ingestion=DataIngestion(config=data_ingestion_config)\n",
    "    data_ingestion.download_file()\n",
    "    data_ingestion.extract_zip_file()\n",
    "except Exception as e:\n",
    "    raise e"
   ]
  },
  {
   "cell_type": "code",
   "execution_count": 11,
   "metadata": {},
   "outputs": [
    {
     "name": "stdout",
     "output_type": "stream",
     "text": [
      "[2025-09-10 19:46:23,373: INFO: 1766336031: C:\\Users\\akash\\MLOps_Wine_Quality_Prediction\\config\\config.yaml imported successfully]\n",
      "[2025-09-10 19:46:23,374: INFO: 1766336031: C:\\Users\\akash\\MLOps_Wine_Quality_Prediction\\params.yaml imported successfully]\n",
      "[2025-09-10 19:46:23,375: INFO: 1766336031: C:\\Users\\akash\\MLOps_Wine_Quality_Prediction\\schema.yaml imported successfully]\n",
      "True C:\\Users\\akash\\MLOps_Wine_Quality_Prediction\\config\\config.yaml\n",
      "True C:\\Users\\akash\\MLOps_Wine_Quality_Prediction\\params.yaml\n",
      "True C:\\Users\\akash\\MLOps_Wine_Quality_Prediction\\schema.yaml\n"
     ]
    }
   ],
   "source": [
    "from src.Wine_Quality_Prediction.constants import CONFIG_FILE_PATH, PARAMS_FILE_PATH, SCHEMA_FILE_PATH\n",
    "logger.info(f\"{CONFIG_FILE_PATH} imported successfully\")\n",
    "logger.info(f\"{PARAMS_FILE_PATH} imported successfully\")\n",
    "logger.info(f\"{SCHEMA_FILE_PATH} imported successfully\")\n",
    "print(CONFIG_FILE_PATH.exists(), CONFIG_FILE_PATH)\n",
    "print(PARAMS_FILE_PATH.exists(), PARAMS_FILE_PATH)\n",
    "print(SCHEMA_FILE_PATH.exists(), SCHEMA_FILE_PATH)\n"
   ]
  },
  {
   "cell_type": "code",
   "execution_count": 12,
   "metadata": {},
   "outputs": [
    {
     "name": "stdout",
     "output_type": "stream",
     "text": [
      "[2025-09-10 19:46:23,387: INFO: common: Created directory at: C:\\Users\\akash\\MLOps_Wine_Quality_Prediction\\config]\n"
     ]
    }
   ],
   "source": [
    "from src.Wine_Quality_Prediction.utils.common import create_directories\n",
    "from src.Wine_Quality_Prediction.constants import CONFIG_FILE_PATH\n",
    "\n",
    "create_directories([CONFIG_FILE_PATH.parent])\n"
   ]
  },
  {
   "cell_type": "code",
   "execution_count": null,
   "metadata": {},
   "outputs": [],
   "source": []
  },
  {
   "cell_type": "code",
   "execution_count": null,
   "metadata": {},
   "outputs": [],
   "source": []
  },
  {
   "cell_type": "code",
   "execution_count": null,
   "metadata": {},
   "outputs": [],
   "source": []
  },
  {
   "cell_type": "code",
   "execution_count": null,
   "metadata": {},
   "outputs": [],
   "source": []
  },
  {
   "cell_type": "code",
   "execution_count": null,
   "metadata": {},
   "outputs": [],
   "source": []
  },
  {
   "cell_type": "code",
   "execution_count": null,
   "metadata": {},
   "outputs": [],
   "source": []
  }
 ],
 "metadata": {
  "kernelspec": {
   "display_name": "base",
   "language": "python",
   "name": "python3"
  },
  "language_info": {
   "codemirror_mode": {
    "name": "ipython",
    "version": 3
   },
   "file_extension": ".py",
   "mimetype": "text/x-python",
   "name": "python",
   "nbconvert_exporter": "python",
   "pygments_lexer": "ipython3",
   "version": "3.11.5"
  }
 },
 "nbformat": 4,
 "nbformat_minor": 2
}
